{
 "cells": [
  {
   "cell_type": "code",
   "execution_count": 1,
   "metadata": {},
   "outputs": [
    {
     "data": {
      "text/plain": [
       "'C:\\\\Users\\\\srinu\\\\Desktop\\\\Remote Internship 2020\\\\project\\\\datasets'"
      ]
     },
     "execution_count": 1,
     "metadata": {},
     "output_type": "execute_result"
    }
   ],
   "source": [
    "import os\n",
    "os.getcwd()"
   ]
  },
  {
   "cell_type": "code",
   "execution_count": 2,
   "metadata": {},
   "outputs": [],
   "source": [
    "os.chdir(\"C:/Users/srinu/Desktop/Remote Internship 2020/project/datasets\")"
   ]
  },
  {
   "cell_type": "code",
   "execution_count": 3,
   "metadata": {},
   "outputs": [
    {
     "data": {
      "text/plain": [
       "'C:\\\\Users\\\\srinu\\\\Desktop\\\\Remote Internship 2020\\\\project\\\\datasets'"
      ]
     },
     "execution_count": 3,
     "metadata": {},
     "output_type": "execute_result"
    }
   ],
   "source": [
    "os.getcwd()"
   ]
  },
  {
   "cell_type": "markdown",
   "metadata": {},
   "source": [
    "# Importing Libraries\n"
   ]
  },
  {
   "cell_type": "code",
   "execution_count": 4,
   "metadata": {},
   "outputs": [],
   "source": [
    "import numpy as np\n",
    "import pandas as pd\n",
    "import matplotlib.image as mpimg\n",
    "import matplotlib.pyplot as plt\n",
    "import seaborn as sns"
   ]
  },
  {
   "cell_type": "markdown",
   "metadata": {},
   "source": [
    "# Model Building"
   ]
  },
  {
   "cell_type": "code",
   "execution_count": 5,
   "metadata": {},
   "outputs": [
    {
     "name": "stderr",
     "output_type": "stream",
     "text": [
      "Using TensorFlow backend.\n",
      "C:\\Users\\srinu\\anaconda3\\lib\\site-packages\\tensorflow\\python\\framework\\dtypes.py:516: FutureWarning: Passing (type, 1) or '1type' as a synonym of type is deprecated; in a future version of numpy, it will be understood as (type, (1,)) / '(1,)type'.\n",
      "  _np_qint8 = np.dtype([(\"qint8\", np.int8, 1)])\n",
      "C:\\Users\\srinu\\anaconda3\\lib\\site-packages\\tensorflow\\python\\framework\\dtypes.py:517: FutureWarning: Passing (type, 1) or '1type' as a synonym of type is deprecated; in a future version of numpy, it will be understood as (type, (1,)) / '(1,)type'.\n",
      "  _np_quint8 = np.dtype([(\"quint8\", np.uint8, 1)])\n",
      "C:\\Users\\srinu\\anaconda3\\lib\\site-packages\\tensorflow\\python\\framework\\dtypes.py:518: FutureWarning: Passing (type, 1) or '1type' as a synonym of type is deprecated; in a future version of numpy, it will be understood as (type, (1,)) / '(1,)type'.\n",
      "  _np_qint16 = np.dtype([(\"qint16\", np.int16, 1)])\n",
      "C:\\Users\\srinu\\anaconda3\\lib\\site-packages\\tensorflow\\python\\framework\\dtypes.py:519: FutureWarning: Passing (type, 1) or '1type' as a synonym of type is deprecated; in a future version of numpy, it will be understood as (type, (1,)) / '(1,)type'.\n",
      "  _np_quint16 = np.dtype([(\"quint16\", np.uint16, 1)])\n",
      "C:\\Users\\srinu\\anaconda3\\lib\\site-packages\\tensorflow\\python\\framework\\dtypes.py:520: FutureWarning: Passing (type, 1) or '1type' as a synonym of type is deprecated; in a future version of numpy, it will be understood as (type, (1,)) / '(1,)type'.\n",
      "  _np_qint32 = np.dtype([(\"qint32\", np.int32, 1)])\n",
      "C:\\Users\\srinu\\anaconda3\\lib\\site-packages\\tensorflow\\python\\framework\\dtypes.py:525: FutureWarning: Passing (type, 1) or '1type' as a synonym of type is deprecated; in a future version of numpy, it will be understood as (type, (1,)) / '(1,)type'.\n",
      "  np_resource = np.dtype([(\"resource\", np.ubyte, 1)])\n",
      "C:\\Users\\srinu\\anaconda3\\lib\\site-packages\\tensorboard\\compat\\tensorflow_stub\\dtypes.py:541: FutureWarning: Passing (type, 1) or '1type' as a synonym of type is deprecated; in a future version of numpy, it will be understood as (type, (1,)) / '(1,)type'.\n",
      "  _np_qint8 = np.dtype([(\"qint8\", np.int8, 1)])\n",
      "C:\\Users\\srinu\\anaconda3\\lib\\site-packages\\tensorboard\\compat\\tensorflow_stub\\dtypes.py:542: FutureWarning: Passing (type, 1) or '1type' as a synonym of type is deprecated; in a future version of numpy, it will be understood as (type, (1,)) / '(1,)type'.\n",
      "  _np_quint8 = np.dtype([(\"quint8\", np.uint8, 1)])\n",
      "C:\\Users\\srinu\\anaconda3\\lib\\site-packages\\tensorboard\\compat\\tensorflow_stub\\dtypes.py:543: FutureWarning: Passing (type, 1) or '1type' as a synonym of type is deprecated; in a future version of numpy, it will be understood as (type, (1,)) / '(1,)type'.\n",
      "  _np_qint16 = np.dtype([(\"qint16\", np.int16, 1)])\n",
      "C:\\Users\\srinu\\anaconda3\\lib\\site-packages\\tensorboard\\compat\\tensorflow_stub\\dtypes.py:544: FutureWarning: Passing (type, 1) or '1type' as a synonym of type is deprecated; in a future version of numpy, it will be understood as (type, (1,)) / '(1,)type'.\n",
      "  _np_quint16 = np.dtype([(\"quint16\", np.uint16, 1)])\n",
      "C:\\Users\\srinu\\anaconda3\\lib\\site-packages\\tensorboard\\compat\\tensorflow_stub\\dtypes.py:545: FutureWarning: Passing (type, 1) or '1type' as a synonym of type is deprecated; in a future version of numpy, it will be understood as (type, (1,)) / '(1,)type'.\n",
      "  _np_qint32 = np.dtype([(\"qint32\", np.int32, 1)])\n",
      "C:\\Users\\srinu\\anaconda3\\lib\\site-packages\\tensorboard\\compat\\tensorflow_stub\\dtypes.py:550: FutureWarning: Passing (type, 1) or '1type' as a synonym of type is deprecated; in a future version of numpy, it will be understood as (type, (1,)) / '(1,)type'.\n",
      "  np_resource = np.dtype([(\"resource\", np.ubyte, 1)])\n"
     ]
    }
   ],
   "source": [
    "#Import Keras.\n",
    "from matplotlib import pyplot \n",
    "from keras.preprocessing.image import ImageDataGenerator\n",
    "from keras.models import Sequential\n",
    "from keras.layers import Conv2D, MaxPooling2D, Dense, Dropout, Input, Flatten, Activation\n",
    "from keras.layers import GlobalMaxPooling2D\n",
    "from keras.layers.merge import Concatenate\n",
    "from keras.models import Model\n",
    "from keras import initializers\n",
    "from keras.optimizers import Adam"
   ]
  },
  {
   "cell_type": "code",
   "execution_count": 6,
   "metadata": {},
   "outputs": [
    {
     "name": "stdout",
     "output_type": "stream",
     "text": [
      "total training igneous rock images: 141\n",
      "total training metamorphic rock images: 122\n",
      "total training sedimentary rock images: 142\n"
     ]
    }
   ],
   "source": [
    "ign_dir = os.path.join('trainset/igneous')\n",
    "meta_dir = os.path.join('trainset/metamorphic')\n",
    "sedi_dir = os.path.join('trainset/sedimentary')\n",
    "\n",
    "print('total training igneous rock images:', len(os.listdir(ign_dir)))\n",
    "print('total training metamorphic rock images:', len(os.listdir(meta_dir)))\n",
    "print('total training sedimentary rock images:', len(os.listdir(sedi_dir)))"
   ]
  },
  {
   "cell_type": "code",
   "execution_count": 7,
   "metadata": {},
   "outputs": [
    {
     "name": "stdout",
     "output_type": "stream",
     "text": [
      "Found 172 images belonging to 3 classes.\n",
      "Found 405 images belonging to 3 classes.\n"
     ]
    }
   ],
   "source": [
    "import keras_preprocessing\n",
    "from keras_preprocessing import image\n",
    "from keras_preprocessing.image import ImageDataGenerator\n",
    "\n",
    "TRAINING_DIR = \"testset\"\n",
    "training_datagen = ImageDataGenerator(\n",
    "      rescale = 1./255,\n",
    "      rotation_range=40,\n",
    "      shear_range=0.2,\n",
    "      zoom_range=0.2,\n",
    "      horizontal_flip=True,\n",
    "      fill_mode='nearest')\n",
    "\n",
    "VALIDATION_DIR = \"trainset\"\n",
    "validation_datagen = ImageDataGenerator(rescale = 1./255)\n",
    "\n",
    "train_generator = training_datagen.flow_from_directory(\n",
    "\tTRAINING_DIR,\n",
    "\ttarget_size=(64,64),\n",
    "\tclass_mode='categorical',\n",
    "  batch_size=60\n",
    ")\n",
    "\n",
    "validation_generator = validation_datagen.flow_from_directory(\n",
    "\tVALIDATION_DIR,\n",
    "\ttarget_size=(64,64),\n",
    "\tclass_mode='categorical',\n",
    "  batch_size=60\n",
    ")"
   ]
  },
  {
   "cell_type": "code",
   "execution_count": 9,
   "metadata": {},
   "outputs": [
    {
     "name": "stdout",
     "output_type": "stream",
     "text": [
      "WARNING:tensorflow:From C:\\Users\\srinu\\anaconda3\\lib\\site-packages\\tensorflow\\python\\ops\\init_ops.py:1251: calling VarianceScaling.__init__ (from tensorflow.python.ops.init_ops) with dtype is deprecated and will be removed in a future version.\n",
      "Instructions for updating:\n",
      "Call initializer instance with the dtype argument instead of passing it to the constructor\n"
     ]
    }
   ],
   "source": [
    "import tensorflow as tf\n",
    "model = tf.keras.models.Sequential([\n",
    "    # Note the input shape is the desired size of the image 300x300 with 3 bytes color\n",
    "    # This is the first convolution\n",
    "    tf.keras.layers.Conv2D(64, (3,3), activation='relu', input_shape=(64,64, 3)),\n",
    "    tf.keras.layers.MaxPooling2D(3, 3),\n",
    "    # The second convolution\n",
    "    tf.keras.layers.Conv2D(128, (3,3), activation='relu'),\n",
    "    tf.keras.layers.MaxPooling2D(3,3),\n",
    "\n",
    "    tf.keras.layers.Conv2D(128, (3,3), activation='relu'),\n",
    "    tf.keras.layers.MaxPooling2D(3,3),\n",
    "    \n",
    "    tf.keras.layers.Flatten(),\n",
    "\n",
    "    \n",
    "    tf.keras.layers.Dense(256, activation='relu'),\n",
    "    \n",
    "    tf.keras.layers.Dense(3, activation='softmax')\n",
    "])"
   ]
  },
  {
   "cell_type": "code",
   "execution_count": 10,
   "metadata": {},
   "outputs": [
    {
     "name": "stdout",
     "output_type": "stream",
     "text": [
      "Model: \"sequential\"\n",
      "_________________________________________________________________\n",
      "Layer (type)                 Output Shape              Param #   \n",
      "=================================================================\n",
      "conv2d (Conv2D)              (None, 62, 62, 64)        1792      \n",
      "_________________________________________________________________\n",
      "max_pooling2d (MaxPooling2D) (None, 20, 20, 64)        0         \n",
      "_________________________________________________________________\n",
      "conv2d_1 (Conv2D)            (None, 18, 18, 128)       73856     \n",
      "_________________________________________________________________\n",
      "max_pooling2d_1 (MaxPooling2 (None, 6, 6, 128)         0         \n",
      "_________________________________________________________________\n",
      "conv2d_2 (Conv2D)            (None, 4, 4, 128)         147584    \n",
      "_________________________________________________________________\n",
      "max_pooling2d_2 (MaxPooling2 (None, 1, 1, 128)         0         \n",
      "_________________________________________________________________\n",
      "flatten (Flatten)            (None, 128)               0         \n",
      "_________________________________________________________________\n",
      "dense (Dense)                (None, 256)               33024     \n",
      "_________________________________________________________________\n",
      "dense_1 (Dense)              (None, 3)                 771       \n",
      "=================================================================\n",
      "Total params: 257,027\n",
      "Trainable params: 257,027\n",
      "Non-trainable params: 0\n",
      "_________________________________________________________________\n",
      "Epoch 1/25\n",
      "60/60 [==============================] - 139s 2s/step - loss: 1.0517 - acc: 0.4270 - val_loss: 1.1194 - val_acc: 0.4581\n",
      "Epoch 2/25\n",
      "60/60 [==============================] - 135s 2s/step - loss: 0.9705 - acc: 0.5023 - val_loss: 0.9993 - val_acc: 0.4989\n",
      "Epoch 3/25\n",
      "60/60 [==============================] - 129s 2s/step - loss: 0.9087 - acc: 0.5392 - val_loss: 0.9882 - val_acc: 0.5204\n",
      "Epoch 4/25\n",
      "60/60 [==============================] - 129s 2s/step - loss: 0.8374 - acc: 0.5901 - val_loss: 1.1921 - val_acc: 0.4989\n",
      "Epoch 5/25\n",
      "60/60 [==============================] - 127s 2s/step - loss: 0.7759 - acc: 0.6206 - val_loss: 1.4199 - val_acc: 0.4473\n",
      "Epoch 6/25\n",
      "60/60 [==============================] - 122s 2s/step - loss: 0.7090 - acc: 0.6712 - val_loss: 1.4130 - val_acc: 0.5075\n",
      "Epoch 7/25\n",
      "60/60 [==============================] - 124s 2s/step - loss: 0.6519 - acc: 0.7038 - val_loss: 1.2814 - val_acc: 0.5591\n",
      "Epoch 8/25\n",
      "60/60 [==============================] - 116s 2s/step - loss: 0.5867 - acc: 0.7363 - val_loss: 1.8744 - val_acc: 0.5290\n",
      "Epoch 9/25\n",
      "60/60 [==============================] - 131s 2s/step - loss: 0.5424 - acc: 0.7640 - val_loss: 1.6664 - val_acc: 0.6000\n",
      "Epoch 10/25\n",
      "60/60 [==============================] - 128s 2s/step - loss: 0.4828 - acc: 0.7910 - val_loss: 1.8964 - val_acc: 0.5742\n",
      "Epoch 11/25\n",
      "60/60 [==============================] - 126s 2s/step - loss: 0.4441 - acc: 0.8099 - val_loss: 2.2124 - val_acc: 0.5355\n",
      "Epoch 12/25\n",
      "60/60 [==============================] - 127s 2s/step - loss: 0.3931 - acc: 0.8381 - val_loss: 1.6828 - val_acc: 0.6258\n",
      "Epoch 13/25\n",
      "60/60 [==============================] - 126s 2s/step - loss: 0.3826 - acc: 0.8532 - val_loss: 2.2356 - val_acc: 0.5892\n",
      "Epoch 14/25\n",
      "60/60 [==============================] - 118s 2s/step - loss: 0.3664 - acc: 0.8555 - val_loss: 1.7374 - val_acc: 0.6129\n",
      "Epoch 15/25\n",
      "60/60 [==============================] - 135s 2s/step - loss: 0.2897 - acc: 0.8834 - val_loss: 2.7765 - val_acc: 0.5613\n",
      "Epoch 16/25\n",
      "60/60 [==============================] - 117s 2s/step - loss: 0.2862 - acc: 0.8930 - val_loss: 2.4396 - val_acc: 0.6215\n",
      "Epoch 17/25\n",
      "60/60 [==============================] - 108s 2s/step - loss: 0.2371 - acc: 0.9105 - val_loss: 2.9586 - val_acc: 0.5699\n",
      "Epoch 18/25\n",
      "60/60 [==============================] - 106s 2s/step - loss: 0.2663 - acc: 0.9044 - val_loss: 2.4342 - val_acc: 0.6258\n",
      "Epoch 19/25\n",
      "60/60 [==============================] - 109s 2s/step - loss: 0.1893 - acc: 0.9297 - val_loss: 1.8070 - val_acc: 0.6473\n",
      "Epoch 20/25\n",
      "60/60 [==============================] - 128s 2s/step - loss: 0.2195 - acc: 0.9256 - val_loss: 2.8370 - val_acc: 0.6215\n",
      "Epoch 21/25\n",
      "60/60 [==============================] - 118s 2s/step - loss: 0.1812 - acc: 0.9343 - val_loss: 2.5655 - val_acc: 0.6430\n",
      "Epoch 22/25\n",
      "60/60 [==============================] - 136s 2s/step - loss: 0.1927 - acc: 0.9311 - val_loss: 3.1531 - val_acc: 0.6129\n",
      "Epoch 23/25\n",
      "60/60 [==============================] - 135s 2s/step - loss: 0.1668 - acc: 0.9416 - val_loss: 2.2833 - val_acc: 0.6925\n",
      "Epoch 24/25\n",
      "60/60 [==============================] - 117s 2s/step - loss: 0.2089 - acc: 0.9381 - val_loss: 2.3166 - val_acc: 0.6387\n",
      "Epoch 25/25\n",
      "60/60 [==============================] - 111s 2s/step - loss: 0.1523 - acc: 0.9564 - val_loss: 2.8984 - val_acc: 0.5785\n"
     ]
    }
   ],
   "source": [
    "model.summary()\n",
    "\n",
    "model.compile(loss = 'categorical_crossentropy', optimizer='rmsprop', metrics=['accuracy'])\n",
    "\n",
    "history = model.fit(\n",
    "      train_generator,\n",
    "      steps_per_epoch=60,  \n",
    "      epochs=25,\n",
    "      verbose=1,\n",
    "      validation_data = validation_generator,\n",
    "      validation_steps=8)\n"
   ]
  },
  {
   "cell_type": "code",
   "execution_count": 12,
   "metadata": {},
   "outputs": [
    {
     "data": {
      "image/png": "[encoded data removed]",
      "text/plain": [
       "<Figure size 432x288 with 1 Axes>"
      ]
     },
     "metadata": {
      "needs_background": "light"
     },
     "output_type": "display_data"
    },
    {
     "data": {
      "text/plain": [
       "<Figure size 432x288 with 0 Axes>"
      ]
     },
     "metadata": {},
     "output_type": "display_data"
    }
   ],
   "source": [
    "import matplotlib.pyplot as plt\n",
    "acc = history.history['acc']\n",
    "val_acc = history.history['val_acc']\n",
    "loss = history.history['loss']\n",
    "val_loss = history.history['val_loss']\n",
    "\n",
    "epochs = range(len(acc))\n",
    "\n",
    "plt.plot(epochs, acc, 'r', label='Training accuracy')\n",
    "plt.plot(epochs, val_acc, 'b', label='Validation accuracy')\n",
    "plt.title('Training and validation accuracy')\n",
    "plt.legend(loc=0)\n",
    "plt.figure()\n",
    "\n",
    "\n",
    "plt.show()"
   ]
  },
  {
   "cell_type": "code",
   "execution_count": 16,
   "metadata": {},
   "outputs": [],
   "source": [
    "from keras.models import load_model\n",
    "import numpy as np\n",
    "import cv2\n",
    "model.save('mymodel.h5')\n",
    "#model.compile(loss='categorical_crossentropy',\n",
    "  #                   optimizer='adam',\n",
    "  #                    metrics=['accuracy'])\n",
    "from skimage.transform import resize\n",
    "\n",
    "def detect(frame):\n",
    "        img = resize(frame,(64,64))\n",
    "        img = np.expand_dims(img,axis=0)\n",
    "        if(np.max(img)>1):\n",
    "            img = img/255.0\n",
    "        prediction = model.predict(img)\n",
    "        print(prediction)\n",
    "        prediction = model.predict_classes(img)\n",
    "        print(prediction)\n",
    "    \n"
   ]
  },
  {
   "cell_type": "code",
   "execution_count": 20,
   "metadata": {},
   "outputs": [
    {
     "name": "stdout",
     "output_type": "stream",
     "text": [
      "[[0.26152575 0.00132858 0.73714566]]\n",
      "[2]\n"
     ]
    }
   ],
   "source": [
    "frame=cv2.imread(r\"C:/Users/srinu/Desktop/Remote Internship 2020/project/datasets/trainset/sedimentary/1.jpg\")\n",
    "data = detect(frame)"
   ]
  },
  {
   "cell_type": "code",
   "execution_count": null,
   "metadata": {},
   "outputs": [],
   "source": []
  }
 ],
 "metadata": {
  "kernelspec": {
   "display_name": "Python 3",
   "language": "python",
   "name": "python3"
  },
  "language_info": {
   "codemirror_mode": {
    "name": "ipython",
    "version": 3
   },
   "file_extension": ".py",
   "mimetype": "text/x-python",
   "name": "python",
   "nbconvert_exporter": "python",
   "pygments_lexer": "ipython3",
   "version": "3.7.6"
  }
 },
 "nbformat": 4,
 "nbformat_minor": 4
}
